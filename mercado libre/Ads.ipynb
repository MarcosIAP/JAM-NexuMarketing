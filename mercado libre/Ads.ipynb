{
 "cells": [
  {
   "cell_type": "markdown",
   "id": "13c5484c-2167-45b8-b93e-375383911697",
   "metadata": {},
   "source": [
    "<h1 style=\"color: #8B0000;\">ACCEDEMOS A NUESTRA API</h1> \n",
    "\n",
    "## Introducción:\n",
    "\n",
    "Para acceder a la información de los anuncios de productos electrónicos, específicamente laptops, desde la API de MercadoLibre. Nuestro trabajo consistirá en procesar u limpiar los datos obtenidos para extraer información relevante como título, precio, número de vistas, condición del producto, cantidad disponible, URL de la imagen y enlace al producto.\n",
    "\n",
    "Nuestra API contiene diferentes parámetros que nos ayudará a desarrollar el trabajo:\n",
    "\n",
    "- **fecha_final:** Fecha de finalización del anuncio.\n",
    "- **fecha_inicio** Fecha de inicio del anuncio.\n",
    "- **id:** Identificador único del anuncio.\n",
    "- **importe_gastado:** Importe gastado en el anuncio.\n",
    "- **impresiones:** Número de impresiones del anuncio.\n",
    "- **numero_vistas:** Número de vistas del anuncio.\n",
    "- **tamano_publico_estimado:** Tamaño estimado del público objetivo.\n",
    "- **titulo:** Título del anuncio del producto.\n",
    "- **url_imagen:** URL de la imagen del producto.\n",
    "- **url_producto:** URL del producto en MercadoLibre.\n",
    "\n",
    "Con nuestra api podemos establecer los siguientes objetivos para enfocarnos en varias métricas y análisis que nos permitirán evaluar el rendimiento de las campañas publicitarias.\n",
    "\n",
    "## Objetivos:\n",
    "\n",
    "- Análisis de Impresiones y Vistas.\n",
    "- Evaluación del Tamaño del Público Estimado.\n",
    "- Análisis Temporal.\n"
   ]
  },
  {
   "cell_type": "markdown",
   "id": "a83811ad-4d99-465b-b445-ee75bf760575",
   "metadata": {},
   "source": [
    "<h4 style=\"color: #8B0000;\">Solicitar la información</h4> \n",
    "Este script proporciona cierta información sobre anuncios de productos, de los cuales vamos a solicitar y trabajar en el desarrollo del trabajo."
   ]
  },
  {
   "cell_type": "code",
   "execution_count": 3,
   "id": "58c115d0-9f75-458f-9f68-5203aa220577",
   "metadata": {},
   "outputs": [
    {
     "name": "stdout",
     "output_type": "stream",
     "text": [
      "ID: 1\n",
      "Título: Laptop Asus Asus Tuf Gaming A15 Amd R5 Rtx2050 16gb 512gb Color Negro\n",
      "Tamaño de Público Estimado: 10 mil\n",
      "Importe Gastado: S/.600\n",
      "Impresiones: 4 mil\n",
      "Fecha Inicio: 2023-01-01\n",
      "Fecha Final: 2023-01-31\n",
      "URL Imagen: http://http2.mlstatic.com/D_774375-MLU76509333540_052024-I.jpg\n",
      "URL Producto: https://www.mercadolibre.com.mx/laptop-asus-asus-tuf-gaming-a15-amd-r5-rtx2050-16gb-512gb-color-negro/p/MLM37283669\n",
      "Número de Vistas: 1647\n",
      "\n",
      "\n",
      "ID: 2\n",
      "Título: Notebook 245 G9 14in Negro 16gb De Ram - 512gb Ssd - Amd Ryzen 3\n",
      "Tamaño de Público Estimado: 20 mil\n",
      "Importe Gastado: S/.1000\n",
      "Impresiones:  5 mil\n",
      "Fecha Inicio: 2023-02-01\n",
      "Fecha Final: 2023-02-28\n",
      "URL Imagen: http://http2.mlstatic.com/D_676170-MLA74065928204_012024-I.jpg\n",
      "URL Producto: https://www.mercadolibre.com.mx/notebook-245-g9-14in-negro-16gb-de-ram-512gb-ssd-amd-ryzen-3/p/MLM27440340\n",
      "Número de Vistas: 1501\n",
      "\n",
      "\n",
      "ID: 3\n",
      "Título: Laptop Gamer Thunderobot 911mt 12th Intel Core I7 12650h 16gb De Ram 512gb Ssd, Nvidia Geforce Rtx 3050 165 Hz 1920x1080px Windows 11 Pro\n",
      "Tamaño de Público Estimado: 15 mil\n",
      "Importe Gastado: S/.800\n",
      "Impresiones: 4 mil\n",
      "Fecha Inicio: 2023-03-01\n",
      "Fecha Final: 2023-03-31\n",
      "URL Imagen: http://http2.mlstatic.com/D_901042-MLU76249680093_052024-I.jpg\n",
      "URL Producto: https://www.mercadolibre.com.mx/laptop-gamer-thunderobot-911mt-12th-intel-core-i7-12650h-16gb-de-ram-512gb-ssd-nvidia-geforce-rtx-3050-165-hz-1920x1080px-windows-11-pro/p/MLM28131164\n",
      "Número de Vistas: 490\n",
      "\n",
      "\n",
      "ID: 4\n",
      "Título: Laptop Hp 245 G9 Amd Ryzen 3 3250u Hasta 3,5 Ghz, Memoria Ram De 16 Gb Ddr4, Ssd 256 Gb, Windows 11 Home 64-bit, Teclado En Español, 14 Pulgadas, Negro\n",
      "Tamaño de Público Estimado: 10 mil\n",
      "Importe Gastado: S/.600\n",
      "Impresiones: 2 mil\n",
      "Fecha Inicio: 2023-04-01\n",
      "Fecha Final: 2023-04-30\n",
      "URL Imagen: http://http2.mlstatic.com/D_661047-MLU73159073286_122023-I.jpg\n",
      "URL Producto: https://www.mercadolibre.com.mx/laptop-hp-245-g9-amd-ryzen-3-3250u-hasta-35-ghz-memoria-ram-de-16-gb-ddr4-ssd-256-gb-windows-11-home-64-bit-teclado-en-espanol-14-pulgadas-negro/p/MLM28615515\n",
      "Número de Vistas: 264\n",
      "\n",
      "\n",
      "ID: 5\n",
      "Título: Laptop Lenovo Ideapad Slim 3 15.6'' Ci5 8gb + 512gb Ssd\n",
      "Tamaño de Público Estimado: 30 mil\n",
      "Importe Gastado: S/.1500\n",
      "Impresiones: 5 mil\n",
      "Fecha Inicio: 2023-05-01\n",
      "Fecha Final: 2023-05-31\n",
      "URL Imagen: http://http2.mlstatic.com/D_621621-MLU73824611655_012024-I.jpg\n",
      "URL Producto: https://www.mercadolibre.com.mx/laptop-lenovo-ideapad-slim-3-156-ci5-8gb-512gb-ssd/p/MLM28619487\n",
      "Número de Vistas: 585\n",
      "\n",
      "\n",
      "ID: 6\n",
      "Título: Laptop Acer Aspire 3 15.6 Ryzen 7, 16gb/512gb, Windows 11 Color Plateado\n",
      "Tamaño de Público Estimado: 40 mil\n",
      "Importe Gastado: S/.1600\n",
      "Impresiones: 12 mil\n",
      "Fecha Inicio: 2023-06-01\n",
      "Fecha Final: 2023-06-30\n",
      "URL Imagen: http://http2.mlstatic.com/D_701272-MLU75124279282_032024-I.jpg\n",
      "URL Producto: https://www.mercadolibre.com.mx/laptop-acer-aspire-3-156-ryzen-7-16gb512gb-windows-11-color-plateado/p/MLM34680070\n",
      "Número de Vistas: 4509\n",
      "\n",
      "\n",
      "ID: 7\n",
      "Título: Laptop Asus Vivobook F15 15.6 Core I7 1255u 16g 512g Ssd W11 Color Azul\n",
      "Tamaño de Público Estimado: 40 mil \n",
      "Importe Gastado: S/.1700\n",
      "Impresiones: 14 mil\n",
      "Fecha Inicio: 2023-07-01\n",
      "Fecha Final: 2023-07-31\n",
      "URL Imagen: http://http2.mlstatic.com/D_976166-MLU73572150103_122023-I.jpg\n",
      "URL Producto: https://www.mercadolibre.com.mx/laptop-asus-vivobook-f15-156-core-i7-1255u-16g-512g-ssd-w11-color-azul/p/MLM29184265\n",
      "Número de Vistas: 4335\n",
      "\n",
      "\n",
      "ID: 8\n",
      "Título: Laptop Hp 240 G9 Intel Core I3 1215u 512gb Ssd 16gb Ram 1366x768px Windows 11 Home + Antivirus Norton 360\n",
      "Tamaño de Público Estimado: 20 mil\n",
      "Importe Gastado: S/.1000\n",
      "Impresiones: 4 mil\n",
      "Fecha Inicio: 2023-08-01\n",
      "Fecha Final: 2023-08-31\n",
      "URL Imagen: http://http2.mlstatic.com/D_656246-MLU77088905699_062024-I.jpg\n",
      "URL Producto: https://www.mercadolibre.com.mx/laptop-hp-240-g9-intel-core-i3-1215u-512gb-ssd-16gb-ram-1366x768px-windows-11-home-antivirus-norton-360/p/MLM37794644\n",
      "Número de Vistas: 469\n",
      "\n",
      "\n",
      "ID: 9\n",
      "Título: 14.1'' Laptop 8 Ram+512gb Ssd Intel Celeron N4000 Windows 11\n",
      "Tamaño de Público Estimado: 10 mil\n",
      "Importe Gastado: S/.600\n",
      "Impresiones: 2 mil\n",
      "Fecha Inicio: 2023-09-01\n",
      "Fecha Final: 2023-09-30\n",
      "URL Imagen: http://http2.mlstatic.com/D_653954-MLM76337017754_052024-I.jpg\n",
      "URL Producto: https://articulo.mercadolibre.com.mx/MLM-3048177446-141-laptop-8-ram512gb-ssd-intel-celeron-n4000-windows-11-_JM\n",
      "Número de Vistas: 541\n",
      "\n",
      "\n",
      "ID: 10\n",
      "Título: Notebook Victus 15-fb1013dx 15.6  Gris 16gb De Ram - 512gb Ssd - Amd Ryzen 5\n",
      "Tamaño de Público Estimado: 40 mil\n",
      "Importe Gastado: S/.1700\n",
      "Impresiones: 14 mil\n",
      "Fecha Inicio: 2023-09-01\n",
      "Fecha Final: 2023-09-30\n",
      "URL Imagen: http://http2.mlstatic.com/D_988145-MLA73121991789_112023-I.jpg\n",
      "URL Producto: https://www.mercadolibre.com.mx/notebook-victus-15-fb1013dx-156-gris-16gb-de-ram-512gb-ssd-amd-ryzen-5/p/MLM28527799\n",
      "Número de Vistas: 541\n",
      "\n",
      "\n"
     ]
    }
   ],
   "source": [
    "import requests\n",
    "\n",
    "# URL de la API\n",
    "api_url = 'http://127.0.0.1:5000/anuncios'\n",
    "\n",
    "# Hacer la solicitud GET a la API\n",
    "response = requests.get(api_url)\n",
    "\n",
    "# Verificar si la solicitud fue exitosa\n",
    "if response.status_code == 200:\n",
    "    # Convertir la respuesta JSON en un diccionario de Python\n",
    "    data = response.json()\n",
    "    \n",
    "    # Procesar y mostrar los datos\n",
    "    for anuncio in data:\n",
    "        print(f\"ID: {anuncio['id']}\")\n",
    "        print(f\"Título: {anuncio['titulo']}\")\n",
    "        print(f\"Tamaño de Público Estimado: {anuncio['tamano_publico_estimado']}\")\n",
    "        print(f\"Importe Gastado: {anuncio['importe_gastado']}\")\n",
    "        print(f\"Impresiones: {anuncio['impresiones']}\")\n",
    "        print(f\"Fecha Inicio: {anuncio['fecha_inicio']}\")\n",
    "        print(f\"Fecha Final: {anuncio['fecha_final']}\")\n",
    "        print(f\"URL Imagen: {anuncio['url_imagen']}\")\n",
    "        print(f\"URL Producto: {anuncio['url_producto']}\")\n",
    "        print(f\"Número de Vistas: {anuncio['numero_vistas']}\")\n",
    "        print(\"\\n\")\n",
    "else:\n",
    "    print(f\"Error al acceder a la API: {response.status_code}\")\n"
   ]
  },
  {
   "cell_type": "markdown",
   "id": "32311025-e7f9-49bc-a77a-2dae8bb936cb",
   "metadata": {},
   "source": [
    "<h4 style=\"color: #8B0000;\">Transformamos los datos obtenidos en formato csv</h4>\n",
    "\n",
    "Extraemos la información de las campañas publicitarias del producto ya establecido, en nuestro caso Laptop,\n",
    "y almacenamos estos datos en formato csv."
   ]
  },
  {
   "cell_type": "code",
   "execution_count": 26,
   "id": "aade6f3b-1345-4654-acdc-286254e30fe8",
   "metadata": {},
   "outputs": [
    {
     "name": "stdout",
     "output_type": "stream",
     "text": [
      "Se ha guardado la información en data_api.csv\n"
     ]
    }
   ],
   "source": [
    "import csv\n",
    "\n",
    "# URL de la API\n",
    "api_url = 'http://127.0.0.1:5000/anuncios'\n",
    "\n",
    "# Hacer la solicitud GET a la API\n",
    "response = requests.get(api_url)\n",
    "\n",
    "# Verificar si la solicitud fue exitosa\n",
    "if response.status_code == 200:\n",
    "    # Convertir la respuesta JSON en un diccionario de Python\n",
    "    data = response.json()\n",
    "    \n",
    "    # Nombre del archivo CSV\n",
    "    csv_filename = 'data_api.csv'\n",
    "\n",
    "    # Definir los nombres de campo para el encabezado del CSV\n",
    "    fieldnames = ['id', 'titulo', 'tamano_publico_estimado', 'importe_gastado', \n",
    "                  'impresiones', 'fecha_inicio', 'fecha_final', 'url_imagen', \n",
    "                  'url_producto', 'numero_vistas']\n",
    "\n",
    "    # Guardar en un archivo CSV\n",
    "    with open(csv_filename, 'w', newline='', encoding='utf-8') as csvfile:\n",
    "        writer = csv.DictWriter(csvfile, fieldnames=fieldnames)\n",
    "\n",
    "        # Escribir el encabezado\n",
    "        writer.writeheader()\n",
    "\n",
    "        # Escribir los datos\n",
    "        for anuncio in data:\n",
    "            # Asegurar que el índice sea el campo 'id'\n",
    "            writer.writerow({'id': anuncio['id'],\n",
    "                             'titulo': anuncio['titulo'],\n",
    "                             'tamano_publico_estimado': anuncio['tamano_publico_estimado'],\n",
    "                             'importe_gastado': anuncio['importe_gastado'],\n",
    "                             'impresiones': anuncio['impresiones'],\n",
    "                             'fecha_inicio': anuncio['fecha_inicio'],\n",
    "                             'fecha_final': anuncio['fecha_final'],\n",
    "                             'url_imagen': anuncio['url_imagen'],\n",
    "                             'url_producto': anuncio['url_producto'],\n",
    "                             'numero_vistas': anuncio['numero_vistas']})\n",
    "\n",
    "    print(f\"Se ha guardado la información en {csv_filename}\")\n",
    "else:\n",
    "    print(f\"Error al acceder a la API: {response.status_code}\")\n"
   ]
  },
  {
   "cell_type": "markdown",
   "id": "a62848bf-ed1c-4b6d-86a7-fbedc46d6927",
   "metadata": {},
   "source": [
    "<h4 style=\"color: #8B0000;\">Mostrando los datos usando pandas</h4>\n",
    "Para una mejor visualización de los datos lo mostraremos en un data frame."
   ]
  },
  {
   "cell_type": "code",
   "execution_count": 27,
   "id": "c4402ad4-930d-47e2-b1bb-a23178c561c4",
   "metadata": {},
   "outputs": [
    {
     "data": {
      "text/html": [
       "<div>\n",
       "<style scoped>\n",
       "    .dataframe tbody tr th:only-of-type {\n",
       "        vertical-align: middle;\n",
       "    }\n",
       "\n",
       "    .dataframe tbody tr th {\n",
       "        vertical-align: top;\n",
       "    }\n",
       "\n",
       "    .dataframe thead th {\n",
       "        text-align: right;\n",
       "    }\n",
       "</style>\n",
       "<table border=\"1\" class=\"dataframe\">\n",
       "  <thead>\n",
       "    <tr style=\"text-align: right;\">\n",
       "      <th></th>\n",
       "      <th>titulo</th>\n",
       "      <th>tamano_publico_estimado</th>\n",
       "      <th>importe_gastado</th>\n",
       "      <th>impresiones</th>\n",
       "      <th>fecha_inicio</th>\n",
       "      <th>fecha_final</th>\n",
       "      <th>url_imagen</th>\n",
       "      <th>url_producto</th>\n",
       "      <th>numero_vistas</th>\n",
       "    </tr>\n",
       "    <tr>\n",
       "      <th>id</th>\n",
       "      <th></th>\n",
       "      <th></th>\n",
       "      <th></th>\n",
       "      <th></th>\n",
       "      <th></th>\n",
       "      <th></th>\n",
       "      <th></th>\n",
       "      <th></th>\n",
       "      <th></th>\n",
       "    </tr>\n",
       "  </thead>\n",
       "  <tbody>\n",
       "    <tr>\n",
       "      <th>1</th>\n",
       "      <td>Laptop Asus Asus Tuf Gaming A15 Amd R5 Rtx2050...</td>\n",
       "      <td>10 mil</td>\n",
       "      <td>S/.600</td>\n",
       "      <td>4 mil</td>\n",
       "      <td>2023-01-01</td>\n",
       "      <td>2023-01-31</td>\n",
       "      <td>http://http2.mlstatic.com/D_774375-MLU76509333...</td>\n",
       "      <td>https://www.mercadolibre.com.mx/laptop-asus-as...</td>\n",
       "      <td>1647</td>\n",
       "    </tr>\n",
       "    <tr>\n",
       "      <th>2</th>\n",
       "      <td>Notebook 245 G9 14in Negro 16gb De Ram - 512gb...</td>\n",
       "      <td>20 mil</td>\n",
       "      <td>S/.1000</td>\n",
       "      <td>5 mil</td>\n",
       "      <td>2023-02-01</td>\n",
       "      <td>2023-02-28</td>\n",
       "      <td>http://http2.mlstatic.com/D_676170-MLA74065928...</td>\n",
       "      <td>https://www.mercadolibre.com.mx/notebook-245-g...</td>\n",
       "      <td>1501</td>\n",
       "    </tr>\n",
       "    <tr>\n",
       "      <th>3</th>\n",
       "      <td>Laptop Gamer Thunderobot 911mt 12th Intel Core...</td>\n",
       "      <td>15 mil</td>\n",
       "      <td>S/.800</td>\n",
       "      <td>4 mil</td>\n",
       "      <td>2023-03-01</td>\n",
       "      <td>2023-03-31</td>\n",
       "      <td>http://http2.mlstatic.com/D_901042-MLU76249680...</td>\n",
       "      <td>https://www.mercadolibre.com.mx/laptop-gamer-t...</td>\n",
       "      <td>490</td>\n",
       "    </tr>\n",
       "    <tr>\n",
       "      <th>4</th>\n",
       "      <td>Laptop Hp 245 G9 Amd Ryzen 3 3250u Hasta 3,5 G...</td>\n",
       "      <td>10 mil</td>\n",
       "      <td>S/.600</td>\n",
       "      <td>2 mil</td>\n",
       "      <td>2023-04-01</td>\n",
       "      <td>2023-04-30</td>\n",
       "      <td>http://http2.mlstatic.com/D_661047-MLU73159073...</td>\n",
       "      <td>https://www.mercadolibre.com.mx/laptop-hp-245-...</td>\n",
       "      <td>264</td>\n",
       "    </tr>\n",
       "    <tr>\n",
       "      <th>5</th>\n",
       "      <td>Laptop Lenovo Ideapad Slim 3 15.6'' Ci5 8gb + ...</td>\n",
       "      <td>30 mil</td>\n",
       "      <td>S/.1500</td>\n",
       "      <td>5 mil</td>\n",
       "      <td>2023-05-01</td>\n",
       "      <td>2023-05-31</td>\n",
       "      <td>http://http2.mlstatic.com/D_621621-MLU73824611...</td>\n",
       "      <td>https://www.mercadolibre.com.mx/laptop-lenovo-...</td>\n",
       "      <td>585</td>\n",
       "    </tr>\n",
       "    <tr>\n",
       "      <th>6</th>\n",
       "      <td>Laptop Acer Aspire 3 15.6 Ryzen 7, 16gb/512gb,...</td>\n",
       "      <td>40 mil</td>\n",
       "      <td>S/.1600</td>\n",
       "      <td>12 mil</td>\n",
       "      <td>2023-06-01</td>\n",
       "      <td>2023-06-30</td>\n",
       "      <td>http://http2.mlstatic.com/D_701272-MLU75124279...</td>\n",
       "      <td>https://www.mercadolibre.com.mx/laptop-acer-as...</td>\n",
       "      <td>4509</td>\n",
       "    </tr>\n",
       "    <tr>\n",
       "      <th>7</th>\n",
       "      <td>Laptop Asus Vivobook F15 15.6 Core I7 1255u 16...</td>\n",
       "      <td>40 mil</td>\n",
       "      <td>S/.1700</td>\n",
       "      <td>14 mil</td>\n",
       "      <td>2023-07-01</td>\n",
       "      <td>2023-07-31</td>\n",
       "      <td>http://http2.mlstatic.com/D_976166-MLU73572150...</td>\n",
       "      <td>https://www.mercadolibre.com.mx/laptop-asus-vi...</td>\n",
       "      <td>4335</td>\n",
       "    </tr>\n",
       "    <tr>\n",
       "      <th>8</th>\n",
       "      <td>Laptop Hp 240 G9 Intel Core I3 1215u 512gb Ssd...</td>\n",
       "      <td>20 mil</td>\n",
       "      <td>S/.1000</td>\n",
       "      <td>4 mil</td>\n",
       "      <td>2023-08-01</td>\n",
       "      <td>2023-08-31</td>\n",
       "      <td>http://http2.mlstatic.com/D_656246-MLU77088905...</td>\n",
       "      <td>https://www.mercadolibre.com.mx/laptop-hp-240-...</td>\n",
       "      <td>469</td>\n",
       "    </tr>\n",
       "    <tr>\n",
       "      <th>9</th>\n",
       "      <td>14.1'' Laptop 8 Ram+512gb Ssd Intel Celeron N4...</td>\n",
       "      <td>10 mil</td>\n",
       "      <td>S/.600</td>\n",
       "      <td>2 mil</td>\n",
       "      <td>2023-09-01</td>\n",
       "      <td>2023-09-30</td>\n",
       "      <td>http://http2.mlstatic.com/D_653954-MLM76337017...</td>\n",
       "      <td>https://articulo.mercadolibre.com.mx/MLM-30481...</td>\n",
       "      <td>541</td>\n",
       "    </tr>\n",
       "    <tr>\n",
       "      <th>10</th>\n",
       "      <td>Notebook Victus 15-fb1013dx 15.6  Gris 16gb De...</td>\n",
       "      <td>40 mil</td>\n",
       "      <td>S/.1700</td>\n",
       "      <td>14 mil</td>\n",
       "      <td>2023-09-01</td>\n",
       "      <td>2023-09-30</td>\n",
       "      <td>http://http2.mlstatic.com/D_988145-MLA73121991...</td>\n",
       "      <td>https://www.mercadolibre.com.mx/notebook-victu...</td>\n",
       "      <td>541</td>\n",
       "    </tr>\n",
       "  </tbody>\n",
       "</table>\n",
       "</div>"
      ],
      "text/plain": [
       "                                               titulo tamano_publico_estimado  \\\n",
       "id                                                                              \n",
       "1   Laptop Asus Asus Tuf Gaming A15 Amd R5 Rtx2050...                  10 mil   \n",
       "2   Notebook 245 G9 14in Negro 16gb De Ram - 512gb...                  20 mil   \n",
       "3   Laptop Gamer Thunderobot 911mt 12th Intel Core...                  15 mil   \n",
       "4   Laptop Hp 245 G9 Amd Ryzen 3 3250u Hasta 3,5 G...                  10 mil   \n",
       "5   Laptop Lenovo Ideapad Slim 3 15.6'' Ci5 8gb + ...                  30 mil   \n",
       "6   Laptop Acer Aspire 3 15.6 Ryzen 7, 16gb/512gb,...                  40 mil   \n",
       "7   Laptop Asus Vivobook F15 15.6 Core I7 1255u 16...                 40 mil    \n",
       "8   Laptop Hp 240 G9 Intel Core I3 1215u 512gb Ssd...                  20 mil   \n",
       "9   14.1'' Laptop 8 Ram+512gb Ssd Intel Celeron N4...                  10 mil   \n",
       "10  Notebook Victus 15-fb1013dx 15.6  Gris 16gb De...                  40 mil   \n",
       "\n",
       "   importe_gastado impresiones fecha_inicio fecha_final  \\\n",
       "id                                                        \n",
       "1           S/.600       4 mil   2023-01-01  2023-01-31   \n",
       "2          S/.1000       5 mil   2023-02-01  2023-02-28   \n",
       "3           S/.800       4 mil   2023-03-01  2023-03-31   \n",
       "4           S/.600       2 mil   2023-04-01  2023-04-30   \n",
       "5          S/.1500       5 mil   2023-05-01  2023-05-31   \n",
       "6          S/.1600      12 mil   2023-06-01  2023-06-30   \n",
       "7          S/.1700      14 mil   2023-07-01  2023-07-31   \n",
       "8          S/.1000       4 mil   2023-08-01  2023-08-31   \n",
       "9           S/.600       2 mil   2023-09-01  2023-09-30   \n",
       "10         S/.1700      14 mil   2023-09-01  2023-09-30   \n",
       "\n",
       "                                           url_imagen  \\\n",
       "id                                                      \n",
       "1   http://http2.mlstatic.com/D_774375-MLU76509333...   \n",
       "2   http://http2.mlstatic.com/D_676170-MLA74065928...   \n",
       "3   http://http2.mlstatic.com/D_901042-MLU76249680...   \n",
       "4   http://http2.mlstatic.com/D_661047-MLU73159073...   \n",
       "5   http://http2.mlstatic.com/D_621621-MLU73824611...   \n",
       "6   http://http2.mlstatic.com/D_701272-MLU75124279...   \n",
       "7   http://http2.mlstatic.com/D_976166-MLU73572150...   \n",
       "8   http://http2.mlstatic.com/D_656246-MLU77088905...   \n",
       "9   http://http2.mlstatic.com/D_653954-MLM76337017...   \n",
       "10  http://http2.mlstatic.com/D_988145-MLA73121991...   \n",
       "\n",
       "                                         url_producto  numero_vistas  \n",
       "id                                                                    \n",
       "1   https://www.mercadolibre.com.mx/laptop-asus-as...           1647  \n",
       "2   https://www.mercadolibre.com.mx/notebook-245-g...           1501  \n",
       "3   https://www.mercadolibre.com.mx/laptop-gamer-t...            490  \n",
       "4   https://www.mercadolibre.com.mx/laptop-hp-245-...            264  \n",
       "5   https://www.mercadolibre.com.mx/laptop-lenovo-...            585  \n",
       "6   https://www.mercadolibre.com.mx/laptop-acer-as...           4509  \n",
       "7   https://www.mercadolibre.com.mx/laptop-asus-vi...           4335  \n",
       "8   https://www.mercadolibre.com.mx/laptop-hp-240-...            469  \n",
       "9   https://articulo.mercadolibre.com.mx/MLM-30481...            541  \n",
       "10  https://www.mercadolibre.com.mx/notebook-victu...            541  "
      ]
     },
     "execution_count": 27,
     "metadata": {},
     "output_type": "execute_result"
    }
   ],
   "source": [
    "import pandas as pd\n",
    "df= pd.read_csv('data_api.csv',index_col=0) #index_col=0 para asegurarnos que el indice sea la primera columna\n",
    "df"
   ]
  },
  {
   "cell_type": "markdown",
   "id": "bbf6c280-1311-4a51-8563-428e97579363",
   "metadata": {},
   "source": [
    "<h4 style=\"color: #8B0000;\">Razón entre impresiones y vistas</h4>\n",
    "Evaluamos la relación entre el número de impresiones y el número de vistas para determinar la efectividad de las campañas publicitarias.\n",
    "La razón entre impresiones y vistas es una métrica importante en la evaluación de la efectividad de una campaña publicitaria. Esta métrica proporciona información sobre cómo las impresiones generadas (es decir, cuántas veces se mostró un anuncio) se comparan con las vistas (cuántas veces se visualizó realmente el anuncio por los usuarios)."
   ]
  },
  {
   "cell_type": "code",
   "execution_count": 30,
   "id": "2ac59cb8-0aeb-46fc-a68a-e31c8b9ae5ac",
   "metadata": {},
   "outputs": [
    {
     "name": "stdout",
     "output_type": "stream",
     "text": [
      "ID: 1\n",
      "Título: Laptop Asus Asus Tuf Gaming A15 Amd R5 Rtx2050 16gb 512gb Color Negro\n",
      "Impresiones: 4 mil\n",
      "Razón Impresiones a Vistas: 2.43\n",
      "------------------------\n",
      "ID: 2\n",
      "Título: Notebook 245 G9 14in Negro 16gb De Ram - 512gb Ssd - Amd Ryzen 3\n",
      "Impresiones:  5 mil\n",
      "Razón Impresiones a Vistas: 3.33\n",
      "------------------------\n",
      "ID: 3\n",
      "Título: Laptop Gamer Thunderobot 911mt 12th Intel Core I7 12650h 16gb De Ram 512gb Ssd, Nvidia Geforce Rtx 3050 165 Hz 1920x1080px Windows 11 Pro\n",
      "Impresiones: 4 mil\n",
      "Razón Impresiones a Vistas: 8.16\n",
      "------------------------\n",
      "ID: 4\n",
      "Título: Laptop Hp 245 G9 Amd Ryzen 3 3250u Hasta 3,5 Ghz, Memoria Ram De 16 Gb Ddr4, Ssd 256 Gb, Windows 11 Home 64-bit, Teclado En Español, 14 Pulgadas, Negro\n",
      "Impresiones: 2 mil\n",
      "Razón Impresiones a Vistas: 7.58\n",
      "------------------------\n",
      "ID: 5\n",
      "Título: Laptop Lenovo Ideapad Slim 3 15.6'' Ci5 8gb + 512gb Ssd\n",
      "Impresiones: 5 mil\n",
      "Razón Impresiones a Vistas: 8.55\n",
      "------------------------\n",
      "ID: 6\n",
      "Título: Laptop Acer Aspire 3 15.6 Ryzen 7, 16gb/512gb, Windows 11 Color Plateado\n",
      "Impresiones: 12 mil\n",
      "Razón Impresiones a Vistas: 2.66\n",
      "------------------------\n",
      "ID: 7\n",
      "Título: Laptop Asus Vivobook F15 15.6 Core I7 1255u 16g 512g Ssd W11 Color Azul\n",
      "Impresiones: 14 mil\n",
      "Razón Impresiones a Vistas: 3.23\n",
      "------------------------\n",
      "ID: 8\n",
      "Título: Laptop Hp 240 G9 Intel Core I3 1215u 512gb Ssd 16gb Ram 1366x768px Windows 11 Home + Antivirus Norton 360\n",
      "Impresiones: 4 mil\n",
      "Razón Impresiones a Vistas: 8.53\n",
      "------------------------\n",
      "ID: 9\n",
      "Título: 14.1'' Laptop 8 Ram+512gb Ssd Intel Celeron N4000 Windows 11\n",
      "Impresiones: 2 mil\n",
      "Razón Impresiones a Vistas: 3.70\n",
      "------------------------\n",
      "ID: 10\n",
      "Título: Notebook Victus 15-fb1013dx 15.6  Gris 16gb De Ram - 512gb Ssd - Amd Ryzen 5\n",
      "Impresiones: 14 mil\n",
      "Razón Impresiones a Vistas: 25.88\n",
      "------------------------\n"
     ]
    },
    {
     "data": {
      "image/png": "[encoded data removed]",
      "text/plain": [
       "<Figure size 1000x600 with 1 Axes>"
      ]
     },
     "metadata": {},
     "output_type": "display_data"
    }
   ],
   "source": [
    "data = response.json()\n",
    "# Calcular métricas clave para cada anuncio\n",
    "for anuncio in data:\n",
    "\n",
    "    # Convertir impresiones a int\n",
    "    impresiones = int(anuncio['impresiones'].replace(' mil', '000').replace(',', ''))\n",
    "\n",
    "    # Convertir numero_vistas a int\n",
    "    numero_vistas = int(anuncio['numero_vistas'])\n",
    "\n",
    "    # Razón impresiones a vistas\n",
    "    razon_impresiones_vistas = impresiones / numero_vistas if numero_vistas else 0\n",
    "\n",
    "    # Imprimir resultados para cada anuncio\n",
    "    print(f\"ID: {anuncio['id']}\")\n",
    "    print(f\"Título: {anuncio['titulo']}\")\n",
    "    print(f\"Impresiones: {anuncio['impresiones']}\")\n",
    "    print(f\"Razón Impresiones a Vistas: {razon_impresiones_vistas:.2f}\")\n",
    "    print(\"------------------------\")\n",
    "\n",
    "import matplotlib.pyplot as plt\n",
    "\n",
    "# Graficar la relación entre Impresiones y Vistas\n",
    "plt.figure(figsize=(10, 6))\n",
    "plt.scatter(df['impresiones'], df['numero_vistas'])\n",
    "plt.title('Relación entre Impresiones y Vistas')\n",
    "plt.xlabel('Impresiones')\n",
    "plt.ylabel('Vistas')\n",
    "plt.grid(True)\n",
    "plt.show()\n"
   ]
  },
  {
   "cell_type": "markdown",
   "id": "4da81c2c-04f9-499b-9f72-e184cf49c7f9",
   "metadata": {},
   "source": [
    "<h4 style=\"color: #8B0000;\">Evaluación del tamaño de público estimado</h4>\n",
    "Este analisis nos sirve principalmente para entender cómo el tamaño estimado del público objetivo impacta en la efectividad de las campañas publicitarias, específicamente en términos de impresiones por cada 1000 personas en ese público. "
   ]
  },
  {
   "cell_type": "code",
   "execution_count": 42,
   "id": "c7d2305e-4443-4150-b8de-e8fd2d2b0f25",
   "metadata": {},
   "outputs": [
    {
     "name": "stdout",
     "output_type": "stream",
     "text": [
      "ID: 1\n",
      "Título: Laptop Asus Asus Tuf Gaming A15 Amd R5 Rtx2050 16gb 512gb Color Negro\n",
      "Tamaño de Público Estimado: 10000\n",
      "Impresiones: 4000\n",
      "Tasa de Impresiones por Tamaño del Público: 400.00 impresiones por cada 1000 personas en el público estimado\n",
      "------------------------\n",
      "ID: 2\n",
      "Título: Notebook 245 G9 14in Negro 16gb De Ram - 512gb Ssd - Amd Ryzen 3\n",
      "Tamaño de Público Estimado: 20000\n",
      "Impresiones: 5000\n",
      "Tasa de Impresiones por Tamaño del Público: 250.00 impresiones por cada 1000 personas en el público estimado\n",
      "------------------------\n",
      "ID: 3\n",
      "Título: Laptop Gamer Thunderobot 911mt 12th Intel Core I7 12650h 16gb De Ram 512gb Ssd, Nvidia Geforce Rtx 3050 165 Hz 1920x1080px Windows 11 Pro\n",
      "Tamaño de Público Estimado: 15000\n",
      "Impresiones: 4000\n",
      "Tasa de Impresiones por Tamaño del Público: 266.67 impresiones por cada 1000 personas en el público estimado\n",
      "------------------------\n",
      "ID: 4\n",
      "Título: Laptop Hp 245 G9 Amd Ryzen 3 3250u Hasta 3,5 Ghz, Memoria Ram De 16 Gb Ddr4, Ssd 256 Gb, Windows 11 Home 64-bit, Teclado En Español, 14 Pulgadas, Negro\n",
      "Tamaño de Público Estimado: 10000\n",
      "Impresiones: 2000\n",
      "Tasa de Impresiones por Tamaño del Público: 200.00 impresiones por cada 1000 personas en el público estimado\n",
      "------------------------\n",
      "ID: 5\n",
      "Título: Laptop Lenovo Ideapad Slim 3 15.6'' Ci5 8gb + 512gb Ssd\n",
      "Tamaño de Público Estimado: 30000\n",
      "Impresiones: 5000\n",
      "Tasa de Impresiones por Tamaño del Público: 166.67 impresiones por cada 1000 personas en el público estimado\n",
      "------------------------\n",
      "ID: 6\n",
      "Título: Laptop Acer Aspire 3 15.6 Ryzen 7, 16gb/512gb, Windows 11 Color Plateado\n",
      "Tamaño de Público Estimado: 40000\n",
      "Impresiones: 12000\n",
      "Tasa de Impresiones por Tamaño del Público: 300.00 impresiones por cada 1000 personas en el público estimado\n",
      "------------------------\n",
      "ID: 7\n",
      "Título: Laptop Asus Vivobook F15 15.6 Core I7 1255u 16g 512g Ssd W11 Color Azul\n",
      "Tamaño de Público Estimado: 40000\n",
      "Impresiones: 14000\n",
      "Tasa de Impresiones por Tamaño del Público: 350.00 impresiones por cada 1000 personas en el público estimado\n",
      "------------------------\n",
      "ID: 8\n",
      "Título: Laptop Hp 240 G9 Intel Core I3 1215u 512gb Ssd 16gb Ram 1366x768px Windows 11 Home + Antivirus Norton 360\n",
      "Tamaño de Público Estimado: 20000\n",
      "Impresiones: 4000\n",
      "Tasa de Impresiones por Tamaño del Público: 200.00 impresiones por cada 1000 personas en el público estimado\n",
      "------------------------\n",
      "ID: 9\n",
      "Título: 14.1'' Laptop 8 Ram+512gb Ssd Intel Celeron N4000 Windows 11\n",
      "Tamaño de Público Estimado: 10000\n",
      "Impresiones: 2000\n",
      "Tasa de Impresiones por Tamaño del Público: 200.00 impresiones por cada 1000 personas en el público estimado\n",
      "------------------------\n",
      "ID: 10\n",
      "Título: Notebook Victus 15-fb1013dx 15.6  Gris 16gb De Ram - 512gb Ssd - Amd Ryzen 5\n",
      "Tamaño de Público Estimado: 40000\n",
      "Impresiones: 14000\n",
      "Tasa de Impresiones por Tamaño del Público: 350.00 impresiones por cada 1000 personas en el público estimado\n",
      "------------------------\n"
     ]
    }
   ],
   "source": [
    "for anuncio in data:\n",
    "    tamano_publico = int(anuncio['tamano_publico_estimado'].replace(' mil', '000'))\n",
    "    impresiones = int(anuncio['impresiones'].replace(' mil', '000'))  # Convertir a entero\n",
    "    \n",
    "    # Calcular la tasa de impresiones por tamaño del público\n",
    "    tasa_impresiones_por_publico = (impresiones / tamano_publico) * 1000\n",
    "    \n",
    "    # Mostrar resultados\n",
    "    print(f\"ID: {anuncio['id']}\")\n",
    "    print(f\"Título: {anuncio['titulo']}\")\n",
    "    print(f\"Tamaño de Público Estimado: {tamano_publico}\")\n",
    "    print(f\"Impresiones: {impresiones}\")\n",
    "    print(f\"Tasa de Impresiones por Tamaño del Público: {tasa_impresiones_por_publico:.2f} impresiones por cada 1000 personas en el público estimado\")\n",
    "    print(\"------------------------\")\n"
   ]
  },
  {
   "cell_type": "markdown",
   "id": "a384b8a9-aeb2-47e1-9104-34510a0e2d4b",
   "metadata": {},
   "source": [
    "<h4 style=\"color: #8B0000;\">Análisis Temporal</h4>\n",
    "Este análisis nos ayudará a ver cómo evoluciona el rendimiento a lo largo de diferentes campañas en el tiempo,\n",
    "y para ello usaremos un gráfico de líneas:"
   ]
  },
  {
   "cell_type": "code",
   "execution_count": 16,
   "id": "2c18992d-6a53-4701-b7ea-cd1e20d8067a",
   "metadata": {},
   "outputs": [
    {
     "data": {
      "application/vnd.plotly.v1+json": {
       "config": {
        "plotlyServerURL": "https://plot.ly"
       },
       "data": [
        {
         "line": {
          "color": "blue"
         },
         "mode": "lines+markers",
         "name": "Impresiones",
         "type": "scatter",
         "x": [
          "2023-01-01T00:00:00",
          "2023-02-01T00:00:00",
          "2023-03-01T00:00:00",
          "2023-04-01T00:00:00",
          "2023-05-01T00:00:00",
          "2023-06-01T00:00:00",
          "2023-07-01T00:00:00",
          "2023-08-01T00:00:00",
          "2023-09-01T00:00:00",
          "2023-09-01T00:00:00"
         ],
         "y": [
          4000,
          5000,
          4000,
          2000,
          5000,
          12000,
          14000,
          4000,
          2000,
          14000
         ]
        },
        {
         "line": {
          "color": "green"
         },
         "mode": "lines+markers",
         "name": "Vistas",
         "type": "scatter",
         "x": [
          "2023-01-01T00:00:00",
          "2023-02-01T00:00:00",
          "2023-03-01T00:00:00",
          "2023-04-01T00:00:00",
          "2023-05-01T00:00:00",
          "2023-06-01T00:00:00",
          "2023-07-01T00:00:00",
          "2023-08-01T00:00:00",
          "2023-09-01T00:00:00",
          "2023-09-01T00:00:00"
         ],
         "y": [
          1647,
          1501,
          490,
          264,
          585,
          4509,
          4335,
          469,
          541,
          541
         ]
        }
       ],
       "layout": {
        "height": 600,
        "hovermode": "x",
        "plot_bgcolor": "white",
        "template": {
         "data": {
          "bar": [
           {
            "error_x": {
             "color": "#2a3f5f"
            },
            "error_y": {
             "color": "#2a3f5f"
            },
            "marker": {
             "line": {
              "color": "#E5ECF6",
              "width": 0.5
             },
             "pattern": {
              "fillmode": "overlay",
              "size": 10,
              "solidity": 0.2
             }
            },
            "type": "bar"
           }
          ],
          "barpolar": [
           {
            "marker": {
             "line": {
              "color": "#E5ECF6",
              "width": 0.5
             },
             "pattern": {
              "fillmode": "overlay",
              "size": 10,
              "solidity": 0.2
             }
            },
            "type": "barpolar"
           }
          ],
          "carpet": [
           {
            "aaxis": {
             "endlinecolor": "#2a3f5f",
             "gridcolor": "white",
             "linecolor": "white",
             "minorgridcolor": "white",
             "startlinecolor": "#2a3f5f"
            },
            "baxis": {
             "endlinecolor": "#2a3f5f",
             "gridcolor": "white",
             "linecolor": "white",
             "minorgridcolor": "white",
             "startlinecolor": "#2a3f5f"
            },
            "type": "carpet"
           }
          ],
          "choropleth": [
           {
            "colorbar": {
             "outlinewidth": 0,
             "ticks": ""
            },
            "type": "choropleth"
           }
          ],
          "contour": [
           {
            "colorbar": {
             "outlinewidth": 0,
             "ticks": ""
            },
            "colorscale": [
             [
              0,
              "#0d0887"
             ],
             [
              0.1111111111111111,
              "#46039f"
             ],
             [
              0.2222222222222222,
              "#7201a8"
             ],
             [
              0.3333333333333333,
              "#9c179e"
             ],
             [
              0.4444444444444444,
              "#bd3786"
             ],
             [
              0.5555555555555556,
              "#d8576b"
             ],
             [
              0.6666666666666666,
              "#ed7953"
             ],
             [
              0.7777777777777778,
              "#fb9f3a"
             ],
             [
              0.8888888888888888,
              "#fdca26"
             ],
             [
              1,
              "#f0f921"
             ]
            ],
            "type": "contour"
           }
          ],
          "contourcarpet": [
           {
            "colorbar": {
             "outlinewidth": 0,
             "ticks": ""
            },
            "type": "contourcarpet"
           }
          ],
          "heatmap": [
           {
            "colorbar": {
             "outlinewidth": 0,
             "ticks": ""
            },
            "colorscale": [
             [
              0,
              "#0d0887"
             ],
             [
              0.1111111111111111,
              "#46039f"
             ],
             [
              0.2222222222222222,
              "#7201a8"
             ],
             [
              0.3333333333333333,
              "#9c179e"
             ],
             [
              0.4444444444444444,
              "#bd3786"
             ],
             [
              0.5555555555555556,
              "#d8576b"
             ],
             [
              0.6666666666666666,
              "#ed7953"
             ],
             [
              0.7777777777777778,
              "#fb9f3a"
             ],
             [
              0.8888888888888888,
              "#fdca26"
             ],
             [
              1,
              "#f0f921"
             ]
            ],
            "type": "heatmap"
           }
          ],
          "heatmapgl": [
           {
            "colorbar": {
             "outlinewidth": 0,
             "ticks": ""
            },
            "colorscale": [
             [
              0,
              "#0d0887"
             ],
             [
              0.1111111111111111,
              "#46039f"
             ],
             [
              0.2222222222222222,
              "#7201a8"
             ],
             [
              0.3333333333333333,
              "#9c179e"
             ],
             [
              0.4444444444444444,
              "#bd3786"
             ],
             [
              0.5555555555555556,
              "#d8576b"
             ],
             [
              0.6666666666666666,
              "#ed7953"
             ],
             [
              0.7777777777777778,
              "#fb9f3a"
             ],
             [
              0.8888888888888888,
              "#fdca26"
             ],
             [
              1,
              "#f0f921"
             ]
            ],
            "type": "heatmapgl"
           }
          ],
          "histogram": [
           {
            "marker": {
             "pattern": {
              "fillmode": "overlay",
              "size": 10,
              "solidity": 0.2
             }
            },
            "type": "histogram"
           }
          ],
          "histogram2d": [
           {
            "colorbar": {
             "outlinewidth": 0,
             "ticks": ""
            },
            "colorscale": [
             [
              0,
              "#0d0887"
             ],
             [
              0.1111111111111111,
              "#46039f"
             ],
             [
              0.2222222222222222,
              "#7201a8"
             ],
             [
              0.3333333333333333,
              "#9c179e"
             ],
             [
              0.4444444444444444,
              "#bd3786"
             ],
             [
              0.5555555555555556,
              "#d8576b"
             ],
             [
              0.6666666666666666,
              "#ed7953"
             ],
             [
              0.7777777777777778,
              "#fb9f3a"
             ],
             [
              0.8888888888888888,
              "#fdca26"
             ],
             [
              1,
              "#f0f921"
             ]
            ],
            "type": "histogram2d"
           }
          ],
          "histogram2dcontour": [
           {
            "colorbar": {
             "outlinewidth": 0,
             "ticks": ""
            },
            "colorscale": [
             [
              0,
              "#0d0887"
             ],
             [
              0.1111111111111111,
              "#46039f"
             ],
             [
              0.2222222222222222,
              "#7201a8"
             ],
             [
              0.3333333333333333,
              "#9c179e"
             ],
             [
              0.4444444444444444,
              "#bd3786"
             ],
             [
              0.5555555555555556,
              "#d8576b"
             ],
             [
              0.6666666666666666,
              "#ed7953"
             ],
             [
              0.7777777777777778,
              "#fb9f3a"
             ],
             [
              0.8888888888888888,
              "#fdca26"
             ],
             [
              1,
              "#f0f921"
             ]
            ],
            "type": "histogram2dcontour"
           }
          ],
          "mesh3d": [
           {
            "colorbar": {
             "outlinewidth": 0,
             "ticks": ""
            },
            "type": "mesh3d"
           }
          ],
          "parcoords": [
           {
            "line": {
             "colorbar": {
              "outlinewidth": 0,
              "ticks": ""
             }
            },
            "type": "parcoords"
           }
          ],
          "pie": [
           {
            "automargin": true,
            "type": "pie"
           }
          ],
          "scatter": [
           {
            "fillpattern": {
             "fillmode": "overlay",
             "size": 10,
             "solidity": 0.2
            },
            "type": "scatter"
           }
          ],
          "scatter3d": [
           {
            "line": {
             "colorbar": {
              "outlinewidth": 0,
              "ticks": ""
             }
            },
            "marker": {
             "colorbar": {
              "outlinewidth": 0,
              "ticks": ""
             }
            },
            "type": "scatter3d"
           }
          ],
          "scattercarpet": [
           {
            "marker": {
             "colorbar": {
              "outlinewidth": 0,
              "ticks": ""
             }
            },
            "type": "scattercarpet"
           }
          ],
          "scattergeo": [
           {
            "marker": {
             "colorbar": {
              "outlinewidth": 0,
              "ticks": ""
             }
            },
            "type": "scattergeo"
           }
          ],
          "scattergl": [
           {
            "marker": {
             "colorbar": {
              "outlinewidth": 0,
              "ticks": ""
             }
            },
            "type": "scattergl"
           }
          ],
          "scattermapbox": [
           {
            "marker": {
             "colorbar": {
              "outlinewidth": 0,
              "ticks": ""
             }
            },
            "type": "scattermapbox"
           }
          ],
          "scatterpolar": [
           {
            "marker": {
             "colorbar": {
              "outlinewidth": 0,
              "ticks": ""
             }
            },
            "type": "scatterpolar"
           }
          ],
          "scatterpolargl": [
           {
            "marker": {
             "colorbar": {
              "outlinewidth": 0,
              "ticks": ""
             }
            },
            "type": "scatterpolargl"
           }
          ],
          "scatterternary": [
           {
            "marker": {
             "colorbar": {
              "outlinewidth": 0,
              "ticks": ""
             }
            },
            "type": "scatterternary"
           }
          ],
          "surface": [
           {
            "colorbar": {
             "outlinewidth": 0,
             "ticks": ""
            },
            "colorscale": [
             [
              0,
              "#0d0887"
             ],
             [
              0.1111111111111111,
              "#46039f"
             ],
             [
              0.2222222222222222,
              "#7201a8"
             ],
             [
              0.3333333333333333,
              "#9c179e"
             ],
             [
              0.4444444444444444,
              "#bd3786"
             ],
             [
              0.5555555555555556,
              "#d8576b"
             ],
             [
              0.6666666666666666,
              "#ed7953"
             ],
             [
              0.7777777777777778,
              "#fb9f3a"
             ],
             [
              0.8888888888888888,
              "#fdca26"
             ],
             [
              1,
              "#f0f921"
             ]
            ],
            "type": "surface"
           }
          ],
          "table": [
           {
            "cells": {
             "fill": {
              "color": "#EBF0F8"
             },
             "line": {
              "color": "white"
             }
            },
            "header": {
             "fill": {
              "color": "#C8D4E3"
             },
             "line": {
              "color": "white"
             }
            },
            "type": "table"
           }
          ]
         },
         "layout": {
          "annotationdefaults": {
           "arrowcolor": "#2a3f5f",
           "arrowhead": 0,
           "arrowwidth": 1
          },
          "autotypenumbers": "strict",
          "coloraxis": {
           "colorbar": {
            "outlinewidth": 0,
            "ticks": ""
           }
          },
          "colorscale": {
           "diverging": [
            [
             0,
             "#8e0152"
            ],
            [
             0.1,
             "#c51b7d"
            ],
            [
             0.2,
             "#de77ae"
            ],
            [
             0.3,
             "#f1b6da"
            ],
            [
             0.4,
             "#fde0ef"
            ],
            [
             0.5,
             "#f7f7f7"
            ],
            [
             0.6,
             "#e6f5d0"
            ],
            [
             0.7,
             "#b8e186"
            ],
            [
             0.8,
             "#7fbc41"
            ],
            [
             0.9,
             "#4d9221"
            ],
            [
             1,
             "#276419"
            ]
           ],
           "sequential": [
            [
             0,
             "#0d0887"
            ],
            [
             0.1111111111111111,
             "#46039f"
            ],
            [
             0.2222222222222222,
             "#7201a8"
            ],
            [
             0.3333333333333333,
             "#9c179e"
            ],
            [
             0.4444444444444444,
             "#bd3786"
            ],
            [
             0.5555555555555556,
             "#d8576b"
            ],
            [
             0.6666666666666666,
             "#ed7953"
            ],
            [
             0.7777777777777778,
             "#fb9f3a"
            ],
            [
             0.8888888888888888,
             "#fdca26"
            ],
            [
             1,
             "#f0f921"
            ]
           ],
           "sequentialminus": [
            [
             0,
             "#0d0887"
            ],
            [
             0.1111111111111111,
             "#46039f"
            ],
            [
             0.2222222222222222,
             "#7201a8"
            ],
            [
             0.3333333333333333,
             "#9c179e"
            ],
            [
             0.4444444444444444,
             "#bd3786"
            ],
            [
             0.5555555555555556,
             "#d8576b"
            ],
            [
             0.6666666666666666,
             "#ed7953"
            ],
            [
             0.7777777777777778,
             "#fb9f3a"
            ],
            [
             0.8888888888888888,
             "#fdca26"
            ],
            [
             1,
             "#f0f921"
            ]
           ]
          },
          "colorway": [
           "#636efa",
           "#EF553B",
           "#00cc96",
           "#ab63fa",
           "#FFA15A",
           "#19d3f3",
           "#FF6692",
           "#B6E880",
           "#FF97FF",
           "#FECB52"
          ],
          "font": {
           "color": "#2a3f5f"
          },
          "geo": {
           "bgcolor": "white",
           "lakecolor": "white",
           "landcolor": "#E5ECF6",
           "showlakes": true,
           "showland": true,
           "subunitcolor": "white"
          },
          "hoverlabel": {
           "align": "left"
          },
          "hovermode": "closest",
          "mapbox": {
           "style": "light"
          },
          "paper_bgcolor": "white",
          "plot_bgcolor": "#E5ECF6",
          "polar": {
           "angularaxis": {
            "gridcolor": "white",
            "linecolor": "white",
            "ticks": ""
           },
           "bgcolor": "#E5ECF6",
           "radialaxis": {
            "gridcolor": "white",
            "linecolor": "white",
            "ticks": ""
           }
          },
          "scene": {
           "xaxis": {
            "backgroundcolor": "#E5ECF6",
            "gridcolor": "white",
            "gridwidth": 2,
            "linecolor": "white",
            "showbackground": true,
            "ticks": "",
            "zerolinecolor": "white"
           },
           "yaxis": {
            "backgroundcolor": "#E5ECF6",
            "gridcolor": "white",
            "gridwidth": 2,
            "linecolor": "white",
            "showbackground": true,
            "ticks": "",
            "zerolinecolor": "white"
           },
           "zaxis": {
            "backgroundcolor": "#E5ECF6",
            "gridcolor": "white",
            "gridwidth": 2,
            "linecolor": "white",
            "showbackground": true,
            "ticks": "",
            "zerolinecolor": "white"
           }
          },
          "shapedefaults": {
           "line": {
            "color": "#2a3f5f"
           }
          },
          "ternary": {
           "aaxis": {
            "gridcolor": "white",
            "linecolor": "white",
            "ticks": ""
           },
           "baxis": {
            "gridcolor": "white",
            "linecolor": "white",
            "ticks": ""
           },
           "bgcolor": "#E5ECF6",
           "caxis": {
            "gridcolor": "white",
            "linecolor": "white",
            "ticks": ""
           }
          },
          "title": {
           "x": 0.05
          },
          "xaxis": {
           "automargin": true,
           "gridcolor": "white",
           "linecolor": "white",
           "ticks": "",
           "title": {
            "standoff": 15
           },
           "zerolinecolor": "white",
           "zerolinewidth": 2
          },
          "yaxis": {
           "automargin": true,
           "gridcolor": "white",
           "linecolor": "white",
           "ticks": "",
           "title": {
            "standoff": 15
           },
           "zerolinecolor": "white",
           "zerolinewidth": 2
          }
         }
        },
        "title": {
         "text": "<b>Evolución de Impresiones y Vistas por Fecha de Inicio de la Campaña</b>",
         "x": 0.5
        },
        "width": 1000,
        "xaxis": {
         "autorange": true,
         "gridcolor": "lightgray",
         "range": [
          "2022-12-17 00:38:39.3365",
          "2023-09-15 23:21:20.6635"
         ],
         "showgrid": true,
         "tickangle": -45,
         "tickformat": "%Y-%m-%d",
         "title": {
          "text": "Fechas de Inicio de la Campaña"
         },
         "type": "date"
        },
        "yaxis": {
         "autorange": true,
         "gridcolor": "lightgray",
         "range": [
          -661.8907849829352,
          14925.890784982936
         ],
         "showgrid": true,
         "title": {
          "text": "Cantidad"
         },
         "type": "linear"
        }
       }
      },
      "image/png": "[encoded data removed]",
      "text/html": [
       "<div>                            <div id=\"18afe96b-3679-4a43-b9b9-b735b2b7bd69\" class=\"plotly-graph-div\" style=\"height:600px; width:1000px;\"></div>            <script type=\"text/javascript\">                require([\"plotly\"], function(Plotly) {                    window.PLOTLYENV=window.PLOTLYENV || {};                                    if (document.getElementById(\"18afe96b-3679-4a43-b9b9-b735b2b7bd69\")) {                    Plotly.newPlot(                        \"18afe96b-3679-4a43-b9b9-b735b2b7bd69\",                        [{\"line\":{\"color\":\"blue\"},\"mode\":\"lines+markers\",\"name\":\"Impresiones\",\"x\":[\"2023-01-01T00:00:00\",\"2023-02-01T00:00:00\",\"2023-03-01T00:00:00\",\"2023-04-01T00:00:00\",\"2023-05-01T00:00:00\",\"2023-06-01T00:00:00\",\"2023-07-01T00:00:00\",\"2023-08-01T00:00:00\",\"2023-09-01T00:00:00\",\"2023-09-01T00:00:00\"],\"y\":[4000,5000,4000,2000,5000,12000,14000,4000,2000,14000],\"type\":\"scatter\"},{\"line\":{\"color\":\"green\"},\"mode\":\"lines+markers\",\"name\":\"Vistas\",\"x\":[\"2023-01-01T00:00:00\",\"2023-02-01T00:00:00\",\"2023-03-01T00:00:00\",\"2023-04-01T00:00:00\",\"2023-05-01T00:00:00\",\"2023-06-01T00:00:00\",\"2023-07-01T00:00:00\",\"2023-08-01T00:00:00\",\"2023-09-01T00:00:00\",\"2023-09-01T00:00:00\"],\"y\":[1647,1501,490,264,585,4509,4335,469,541,541],\"type\":\"scatter\"}],                        {\"template\":{\"data\":{\"histogram2dcontour\":[{\"type\":\"histogram2dcontour\",\"colorbar\":{\"outlinewidth\":0,\"ticks\":\"\"},\"colorscale\":[[0.0,\"#0d0887\"],[0.1111111111111111,\"#46039f\"],[0.2222222222222222,\"#7201a8\"],[0.3333333333333333,\"#9c179e\"],[0.4444444444444444,\"#bd3786\"],[0.5555555555555556,\"#d8576b\"],[0.6666666666666666,\"#ed7953\"],[0.7777777777777778,\"#fb9f3a\"],[0.8888888888888888,\"#fdca26\"],[1.0,\"#f0f921\"]]}],\"choropleth\":[{\"type\":\"choropleth\",\"colorbar\":{\"outlinewidth\":0,\"ticks\":\"\"}}],\"histogram2d\":[{\"type\":\"histogram2d\",\"colorbar\":{\"outlinewidth\":0,\"ticks\":\"\"},\"colorscale\":[[0.0,\"#0d0887\"],[0.1111111111111111,\"#46039f\"],[0.2222222222222222,\"#7201a8\"],[0.3333333333333333,\"#9c179e\"],[0.4444444444444444,\"#bd3786\"],[0.5555555555555556,\"#d8576b\"],[0.6666666666666666,\"#ed7953\"],[0.7777777777777778,\"#fb9f3a\"],[0.8888888888888888,\"#fdca26\"],[1.0,\"#f0f921\"]]}],\"heatmap\":[{\"type\":\"heatmap\",\"colorbar\":{\"outlinewidth\":0,\"ticks\":\"\"},\"colorscale\":[[0.0,\"#0d0887\"],[0.1111111111111111,\"#46039f\"],[0.2222222222222222,\"#7201a8\"],[0.3333333333333333,\"#9c179e\"],[0.4444444444444444,\"#bd3786\"],[0.5555555555555556,\"#d8576b\"],[0.6666666666666666,\"#ed7953\"],[0.7777777777777778,\"#fb9f3a\"],[0.8888888888888888,\"#fdca26\"],[1.0,\"#f0f921\"]]}],\"heatmapgl\":[{\"type\":\"heatmapgl\",\"colorbar\":{\"outlinewidth\":0,\"ticks\":\"\"},\"colorscale\":[[0.0,\"#0d0887\"],[0.1111111111111111,\"#46039f\"],[0.2222222222222222,\"#7201a8\"],[0.3333333333333333,\"#9c179e\"],[0.4444444444444444,\"#bd3786\"],[0.5555555555555556,\"#d8576b\"],[0.6666666666666666,\"#ed7953\"],[0.7777777777777778,\"#fb9f3a\"],[0.8888888888888888,\"#fdca26\"],[1.0,\"#f0f921\"]]}],\"contourcarpet\":[{\"type\":\"contourcarpet\",\"colorbar\":{\"outlinewidth\":0,\"ticks\":\"\"}}],\"contour\":[{\"type\":\"contour\",\"colorbar\":{\"outlinewidth\":0,\"ticks\":\"\"},\"colorscale\":[[0.0,\"#0d0887\"],[0.1111111111111111,\"#46039f\"],[0.2222222222222222,\"#7201a8\"],[0.3333333333333333,\"#9c179e\"],[0.4444444444444444,\"#bd3786\"],[0.5555555555555556,\"#d8576b\"],[0.6666666666666666,\"#ed7953\"],[0.7777777777777778,\"#fb9f3a\"],[0.8888888888888888,\"#fdca26\"],[1.0,\"#f0f921\"]]}],\"surface\":[{\"type\":\"surface\",\"colorbar\":{\"outlinewidth\":0,\"ticks\":\"\"},\"colorscale\":[[0.0,\"#0d0887\"],[0.1111111111111111,\"#46039f\"],[0.2222222222222222,\"#7201a8\"],[0.3333333333333333,\"#9c179e\"],[0.4444444444444444,\"#bd3786\"],[0.5555555555555556,\"#d8576b\"],[0.6666666666666666,\"#ed7953\"],[0.7777777777777778,\"#fb9f3a\"],[0.8888888888888888,\"#fdca26\"],[1.0,\"#f0f921\"]]}],\"mesh3d\":[{\"type\":\"mesh3d\",\"colorbar\":{\"outlinewidth\":0,\"ticks\":\"\"}}],\"scatter\":[{\"fillpattern\":{\"fillmode\":\"overlay\",\"size\":10,\"solidity\":0.2},\"type\":\"scatter\"}],\"parcoords\":[{\"type\":\"parcoords\",\"line\":{\"colorbar\":{\"outlinewidth\":0,\"ticks\":\"\"}}}],\"scatterpolargl\":[{\"type\":\"scatterpolargl\",\"marker\":{\"colorbar\":{\"outlinewidth\":0,\"ticks\":\"\"}}}],\"bar\":[{\"error_x\":{\"color\":\"#2a3f5f\"},\"error_y\":{\"color\":\"#2a3f5f\"},\"marker\":{\"line\":{\"color\":\"#E5ECF6\",\"width\":0.5},\"pattern\":{\"fillmode\":\"overlay\",\"size\":10,\"solidity\":0.2}},\"type\":\"bar\"}],\"scattergeo\":[{\"type\":\"scattergeo\",\"marker\":{\"colorbar\":{\"outlinewidth\":0,\"ticks\":\"\"}}}],\"scatterpolar\":[{\"type\":\"scatterpolar\",\"marker\":{\"colorbar\":{\"outlinewidth\":0,\"ticks\":\"\"}}}],\"histogram\":[{\"marker\":{\"pattern\":{\"fillmode\":\"overlay\",\"size\":10,\"solidity\":0.2}},\"type\":\"histogram\"}],\"scattergl\":[{\"type\":\"scattergl\",\"marker\":{\"colorbar\":{\"outlinewidth\":0,\"ticks\":\"\"}}}],\"scatter3d\":[{\"type\":\"scatter3d\",\"line\":{\"colorbar\":{\"outlinewidth\":0,\"ticks\":\"\"}},\"marker\":{\"colorbar\":{\"outlinewidth\":0,\"ticks\":\"\"}}}],\"scattermapbox\":[{\"type\":\"scattermapbox\",\"marker\":{\"colorbar\":{\"outlinewidth\":0,\"ticks\":\"\"}}}],\"scatterternary\":[{\"type\":\"scatterternary\",\"marker\":{\"colorbar\":{\"outlinewidth\":0,\"ticks\":\"\"}}}],\"scattercarpet\":[{\"type\":\"scattercarpet\",\"marker\":{\"colorbar\":{\"outlinewidth\":0,\"ticks\":\"\"}}}],\"carpet\":[{\"aaxis\":{\"endlinecolor\":\"#2a3f5f\",\"gridcolor\":\"white\",\"linecolor\":\"white\",\"minorgridcolor\":\"white\",\"startlinecolor\":\"#2a3f5f\"},\"baxis\":{\"endlinecolor\":\"#2a3f5f\",\"gridcolor\":\"white\",\"linecolor\":\"white\",\"minorgridcolor\":\"white\",\"startlinecolor\":\"#2a3f5f\"},\"type\":\"carpet\"}],\"table\":[{\"cells\":{\"fill\":{\"color\":\"#EBF0F8\"},\"line\":{\"color\":\"white\"}},\"header\":{\"fill\":{\"color\":\"#C8D4E3\"},\"line\":{\"color\":\"white\"}},\"type\":\"table\"}],\"barpolar\":[{\"marker\":{\"line\":{\"color\":\"#E5ECF6\",\"width\":0.5},\"pattern\":{\"fillmode\":\"overlay\",\"size\":10,\"solidity\":0.2}},\"type\":\"barpolar\"}],\"pie\":[{\"automargin\":true,\"type\":\"pie\"}]},\"layout\":{\"autotypenumbers\":\"strict\",\"colorway\":[\"#636efa\",\"#EF553B\",\"#00cc96\",\"#ab63fa\",\"#FFA15A\",\"#19d3f3\",\"#FF6692\",\"#B6E880\",\"#FF97FF\",\"#FECB52\"],\"font\":{\"color\":\"#2a3f5f\"},\"hovermode\":\"closest\",\"hoverlabel\":{\"align\":\"left\"},\"paper_bgcolor\":\"white\",\"plot_bgcolor\":\"#E5ECF6\",\"polar\":{\"bgcolor\":\"#E5ECF6\",\"angularaxis\":{\"gridcolor\":\"white\",\"linecolor\":\"white\",\"ticks\":\"\"},\"radialaxis\":{\"gridcolor\":\"white\",\"linecolor\":\"white\",\"ticks\":\"\"}},\"ternary\":{\"bgcolor\":\"#E5ECF6\",\"aaxis\":{\"gridcolor\":\"white\",\"linecolor\":\"white\",\"ticks\":\"\"},\"baxis\":{\"gridcolor\":\"white\",\"linecolor\":\"white\",\"ticks\":\"\"},\"caxis\":{\"gridcolor\":\"white\",\"linecolor\":\"white\",\"ticks\":\"\"}},\"coloraxis\":{\"colorbar\":{\"outlinewidth\":0,\"ticks\":\"\"}},\"colorscale\":{\"sequential\":[[0.0,\"#0d0887\"],[0.1111111111111111,\"#46039f\"],[0.2222222222222222,\"#7201a8\"],[0.3333333333333333,\"#9c179e\"],[0.4444444444444444,\"#bd3786\"],[0.5555555555555556,\"#d8576b\"],[0.6666666666666666,\"#ed7953\"],[0.7777777777777778,\"#fb9f3a\"],[0.8888888888888888,\"#fdca26\"],[1.0,\"#f0f921\"]],\"sequentialminus\":[[0.0,\"#0d0887\"],[0.1111111111111111,\"#46039f\"],[0.2222222222222222,\"#7201a8\"],[0.3333333333333333,\"#9c179e\"],[0.4444444444444444,\"#bd3786\"],[0.5555555555555556,\"#d8576b\"],[0.6666666666666666,\"#ed7953\"],[0.7777777777777778,\"#fb9f3a\"],[0.8888888888888888,\"#fdca26\"],[1.0,\"#f0f921\"]],\"diverging\":[[0,\"#8e0152\"],[0.1,\"#c51b7d\"],[0.2,\"#de77ae\"],[0.3,\"#f1b6da\"],[0.4,\"#fde0ef\"],[0.5,\"#f7f7f7\"],[0.6,\"#e6f5d0\"],[0.7,\"#b8e186\"],[0.8,\"#7fbc41\"],[0.9,\"#4d9221\"],[1,\"#276419\"]]},\"xaxis\":{\"gridcolor\":\"white\",\"linecolor\":\"white\",\"ticks\":\"\",\"title\":{\"standoff\":15},\"zerolinecolor\":\"white\",\"automargin\":true,\"zerolinewidth\":2},\"yaxis\":{\"gridcolor\":\"white\",\"linecolor\":\"white\",\"ticks\":\"\",\"title\":{\"standoff\":15},\"zerolinecolor\":\"white\",\"automargin\":true,\"zerolinewidth\":2},\"scene\":{\"xaxis\":{\"backgroundcolor\":\"#E5ECF6\",\"gridcolor\":\"white\",\"linecolor\":\"white\",\"showbackground\":true,\"ticks\":\"\",\"zerolinecolor\":\"white\",\"gridwidth\":2},\"yaxis\":{\"backgroundcolor\":\"#E5ECF6\",\"gridcolor\":\"white\",\"linecolor\":\"white\",\"showbackground\":true,\"ticks\":\"\",\"zerolinecolor\":\"white\",\"gridwidth\":2},\"zaxis\":{\"backgroundcolor\":\"#E5ECF6\",\"gridcolor\":\"white\",\"linecolor\":\"white\",\"showbackground\":true,\"ticks\":\"\",\"zerolinecolor\":\"white\",\"gridwidth\":2}},\"shapedefaults\":{\"line\":{\"color\":\"#2a3f5f\"}},\"annotationdefaults\":{\"arrowcolor\":\"#2a3f5f\",\"arrowhead\":0,\"arrowwidth\":1},\"geo\":{\"bgcolor\":\"white\",\"landcolor\":\"#E5ECF6\",\"subunitcolor\":\"white\",\"showland\":true,\"showlakes\":true,\"lakecolor\":\"white\"},\"title\":{\"x\":0.05},\"mapbox\":{\"style\":\"light\"}}},\"title\":{\"text\":\"<b>Evoluci\\u00f3n de Impresiones y Vistas por Fecha de Inicio de la Campa\\u00f1a</b>\",\"x\":0.5},\"xaxis\":{\"title\":{\"text\":\"Fechas de Inicio de la Campa\\u00f1a\"},\"tickformat\":\"%Y-%m-%d\",\"tickangle\":-45,\"showgrid\":true,\"gridcolor\":\"lightgray\"},\"yaxis\":{\"title\":{\"text\":\"Cantidad\"},\"showgrid\":true,\"gridcolor\":\"lightgray\"},\"hovermode\":\"x\",\"width\":1000,\"height\":600,\"plot_bgcolor\":\"white\"},                        {\"responsive\": true}                    ).then(function(){\n",
       "                            \n",
       "var gd = document.getElementById('18afe96b-3679-4a43-b9b9-b735b2b7bd69');\n",
       "var x = new MutationObserver(function (mutations, observer) {{\n",
       "        var display = window.getComputedStyle(gd).display;\n",
       "        if (!display || display === 'none') {{\n",
       "            console.log([gd, 'removed!']);\n",
       "            Plotly.purge(gd);\n",
       "            observer.disconnect();\n",
       "        }}\n",
       "}});\n",
       "\n",
       "// Listen for the removal of the full notebook cells\n",
       "var notebookContainer = gd.closest('#notebook-container');\n",
       "if (notebookContainer) {{\n",
       "    x.observe(notebookContainer, {childList: true});\n",
       "}}\n",
       "\n",
       "// Listen for the clearing of the current output cell\n",
       "var outputEl = gd.closest('.output');\n",
       "if (outputEl) {{\n",
       "    x.observe(outputEl, {childList: true});\n",
       "}}\n",
       "\n",
       "                        })                };                });            </script>        </div>"
      ]
     },
     "metadata": {},
     "output_type": "display_data"
    }
   ],
   "source": [
    "import plotly.graph_objs as go\n",
    "from datetime import datetime\n",
    "\n",
    "# Preparar datos para el gráfico de líneas\n",
    "fechas = []\n",
    "impresiones = []\n",
    "vistas = []\n",
    "\n",
    "for anuncio in data:\n",
    "    fecha_inicio = datetime.strptime(anuncio['fecha_inicio'], '%Y-%m-%d')\n",
    "    fecha_final = datetime.strptime(anuncio['fecha_final'], '%Y-%m-%d')\n",
    "    duracion_campana = (fecha_final - fecha_inicio).days\n",
    "    fechas.append(fecha_inicio)\n",
    "    vistas.append(int(anuncio['numero_vistas']))\n",
    "    impresiones.append(int(anuncio['impresiones'].replace(' mil', '000')))\n",
    "\n",
    "# Crear la figura interactiva con Plotly\n",
    "fig = go.Figure()\n",
    "\n",
    "# Añadir las líneas de impresiones y vistas con colores personalizados\n",
    "fig.add_trace(go.Scatter(x=fechas, y=impresiones, mode='lines+markers', name='Impresiones', line=dict(color='blue')))\n",
    "fig.add_trace(go.Scatter(x=fechas, y=vistas, mode='lines+markers', name='Vistas', line=dict(color='green')))\n",
    "\n",
    "# Configurar diseño y etiquetas\n",
    "fig.update_layout(\n",
    "    title='<b>Evolución de Impresiones y Vistas por Fecha de Inicio de la Campaña</b>',\n",
    "    title_x=0.5,  # Centrar el título\n",
    "    xaxis_title='Fechas de Inicio de la Campaña',\n",
    "    yaxis_title='Cantidad',\n",
    "    xaxis_tickformat='%Y-%m-%d',\n",
    "    xaxis_tickangle=-45,\n",
    "    hovermode='x',\n",
    "    width=1000,  # Ancho del gráfico\n",
    "    height=600,  # Alto del gráfico\n",
    "    plot_bgcolor='white' , # Color de fondo del gráfico\n",
    "        xaxis=dict(showgrid=True, gridcolor='lightgray'),  # Mostrar cuadrículas en el eje x\n",
    "    yaxis=dict(showgrid=True, gridcolor='lightgray')   # Mostrar cuadrículas en el eje y\n",
    ")\n",
    "\n",
    "# Mostrar la figura interactiva\n",
    "fig.show()\n"
   ]
  },
  {
   "cell_type": "markdown",
   "id": "339657bd-5b3c-40c5-b2f2-0e4ebc588510",
   "metadata": {},
   "source": [
    "<h4 style=\"color: #8B0000;\">Creando HTML</h4>\n",
    "Creamos un html para poder tener una mejor visualizacion de los datos que hemos extraído, para esto usaremos el siguiente codigo:"
   ]
  },
  {
   "cell_type": "code",
   "execution_count": 2,
   "id": "fc55ec0f-2d39-4415-a386-9488079116c3",
   "metadata": {},
   "outputs": [
    {
     "name": "stdout",
     "output_type": "stream",
     "text": [
      "Archivo HTML generado exitosamente.\n"
     ]
    }
   ],
   "source": [
    "import json\n",
    "from jinja2 import Template\n",
    "json_filename = 'anuncios.json'\n",
    "with open(json_filename, 'r', encoding='utf-8') as json_file:\n",
    "    data = json.load(json_file)\n",
    "# Plantilla HTML con Bootstrap integrado\n",
    "template_html = \"\"\"\n",
    "<!DOCTYPE html>\n",
    "<html lang=\"en\">\n",
    "<head>\n",
    "    <meta charset=\"UTF-8\">\n",
    "    <meta name=\"viewport\" content=\"width=device-width, initial-scale=1.0\">\n",
    "    <title>Biblioteca de Anuncios JAM Nexu</title>\n",
    "    <!-- Bootstrap CSS -->\n",
    "    <link href=\"https://stackpath.bootstrapcdn.com/bootstrap/4.5.2/css/bootstrap.min.css\" rel=\"stylesheet\">\n",
    "    <!-- Estilos personalizados -->\n",
    "    <style>\n",
    "        body {\n",
    "            font-family: 'Roboto', sans-serif;\n",
    "            margin: 20px;\n",
    "            background-color: #f4f4f9; /* Fondo gris claro para toda la página */\n",
    "            transition: background-color 0.3s; /* Transición suave del color de fondo */\n",
    "        }\n",
    "        body:hover {\n",
    "            background-color: #e9ecef; /* Cambia el color de fondo al pasar el mouse */\n",
    "        }\n",
    "        h2 {\n",
    "            text-align: center;\n",
    "            color: #007bff; /* Color azul */\n",
    "            margin-bottom: 20px;\n",
    "            transition: color 0.3s; /* Transición suave del color del título */\n",
    "        }\n",
    "        h2:hover {\n",
    "            color: #0056b3; /* Cambia el color del título al pasar el mouse */\n",
    "        }\n",
    "        .card {\n",
    "            border: 1px solid #ccc;\n",
    "            border-radius: 5px;\n",
    "            padding: 10px;\n",
    "            margin-bottom: 20px;\n",
    "            background-color: #fff; /* Fondo blanco para las tarjetas */\n",
    "            display: flex; /* Para que el contenido sea en línea */\n",
    "            align-items: center; /* Centra verticalmente el contenido */\n",
    "            transition: transform 0.2s, box-shadow 0.2s; /* Transiciones para efecto de transformación y sombra */\n",
    "        }\n",
    "        .card:hover {\n",
    "            transform: scale(1.02); /* Efecto de escala al pasar el mouse */\n",
    "            box-shadow: 0 0 10px rgba(0,0,0,0.2); /* Sombra al pasar el mouse */\n",
    "        }\n",
    "        .card img {\n",
    "            max-width: 150px; /* Ancho máximo de la imagen */\n",
    "            height: auto;\n",
    "            border-radius: 5px;\n",
    "            margin-right: 10px; /* Espacio a la derecha de la imagen */\n",
    "            display: block; /* Ajuste para centrar la imagen */\n",
    "            margin: 0 auto; /* Ajuste para centrar la imagen */\n",
    "        }\n",
    "        .card-body {\n",
    "            color: #333;\n",
    "            flex: 1; /* Para que ocupe todo el espacio disponible */\n",
    "        }\n",
    "        .card-title {\n",
    "            font-size: 1.2em;\n",
    "            margin-bottom: 10px;\n",
    "            transition: color 0.3s; /* Transición suave del color del título */\n",
    "        }\n",
    "        .card-title:hover {\n",
    "            color: #0056b3; /* Cambia el color del título al pasar el mouse */\n",
    "        }\n",
    "        .card-text {\n",
    "            font-size: 1em;\n",
    "            color: #555;\n",
    "            margin-bottom: 5px;\n",
    "        }\n",
    "        .btn-primary {\n",
    "            background-color: #007bff;\n",
    "            border-color: #007bff;\n",
    "        }\n",
    "        .btn-primary:hover {\n",
    "            background-color: #0056b3;\n",
    "            border-color: #0056b3;\n",
    "        }\n",
    "    </style>\n",
    "</head>\n",
    "<body>\n",
    "    <div class=\"container mt-5\">\n",
    "        <h2>Biblioteca de Anuncios JAM Nexu</h2>\n",
    "        <p class=\"subtitulo\">Esta biblioteca contiene información de anuncios sobre laptops.Cada tarjeta de anuncio muestra la imagen de la laptop junto con detalles como la fecha de inicio, fecha de fin, costo, impresiones y número de vistas. Las transiciones suaves de color y efectos de escala y sombra hacen que la experiencia de usuario sea más dinámica al interactuar con los elementos de la página.  .</p>\n",
    "        <div class=\"row\">\n",
    "            {% for anuncio in data %}\n",
    "            <div class=\"col-md-4 mb-4\">\n",
    "                <div class=\"card\">\n",
    "                    <img src=\"{{ anuncio.url_imagen }}\" class=\"card-img-top\" alt=\"{{ anuncio.titulo }}\">\n",
    "                    <div class=\"card-body\">\n",
    "                        <h5 class=\"card-title\">{{ anuncio.titulo }}</h5>\n",
    "                        <p class=\"card-text\"><strong>Impresiones:</strong> {{ anuncio.impresiones }}</p>\n",
    "                        <p class=\"card-text\"><strong>Número de Vistas:</strong> {{ anuncio.numero_vistas }}</p>\n",
    "                        <p class=\"card-text\"><strong>Tamaño Público Estimado:</strong> {{ anuncio.tamano_publico_estimado }}</p>\n",
    "                        <p class=\"card-text\">Fecha Inicio: {{ anuncio.fecha_inicio }}</p>\n",
    "                        <p class=\"card-text\">Fecha Final: {{ anuncio.fecha_final }}</p>\n",
    "                        <p class=\"card-text\">Importe Gastado: {{ anuncio.importe_gastado }}</p>\n",
    "                        <a href=\"{{ anuncio.url_producto }}\" class=\"btn btn-primary\" target=\"_blank\">Ver Producto</a>\n",
    "                    </div>\n",
    "                </div>\n",
    "            </div>\n",
    "            {% endfor %}\n",
    "        </div>\n",
    "    </div>\n",
    "\n",
    "    <!-- Bootstrap JS y dependencias opcionales -->\n",
    "    <script src=\"https://code.jquery.com/jquery-3.5.1.slim.min.js\"></script>\n",
    "    <script src=\"https://cdn.jsdelivr.net/npm/@popperjs/core@2.5.4/dist/umd/popper.min.js\"></script>\n",
    "    <script src=\"https://stackpath.bootstrapcdn.com/bootstrap/4.5.2/js/bootstrap.min.js\"></script>\n",
    "</body>\n",
    "</html>\n",
    "\n",
    "\"\"\"\n",
    "\n",
    "# Crear un objeto de template Jinja2\n",
    "template = Template(template_html)\n",
    "\n",
    "# Renderizar la plantilla con los datos\n",
    "rendered_html = template.render(data=data)\n",
    "\n",
    "# Guardar el HTML generado en un archivo\n",
    "with open('biblioteca_anuncios.html', 'w', encoding='utf-8') as file:\n",
    "    file.write(rendered_html)\n",
    "\n",
    "print(\"Archivo HTML generado exitosamente.\")"
   ]
  }
 ],
 "metadata": {
  "kernelspec": {
   "display_name": "Python 3 (ipykernel)",
   "language": "python",
   "name": "python3"
  },
  "language_info": {
   "codemirror_mode": {
    "name": "ipython",
    "version": 3
   },
   "file_extension": ".py",
   "mimetype": "text/x-python",
   "name": "python",
   "nbconvert_exporter": "python",
   "pygments_lexer": "ipython3",
   "version": "3.11.7"
  }
 },
 "nbformat": 4,
 "nbformat_minor": 5
}
